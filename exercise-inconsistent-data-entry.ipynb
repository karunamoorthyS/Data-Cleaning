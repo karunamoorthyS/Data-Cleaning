{
 "cells": [
  {
   "cell_type": "markdown",
   "id": "c1be638f",
   "metadata": {
    "papermill": {
     "duration": 0.016357,
     "end_time": "2022-01-29T15:11:19.667061",
     "exception": false,
     "start_time": "2022-01-29T15:11:19.650704",
     "status": "completed"
    },
    "tags": []
   },
   "source": [
    "**This notebook is an exercise in the [Data Cleaning](https://www.kaggle.com/learn/data-cleaning) course.  You can reference the tutorial at [this link](https://www.kaggle.com/alexisbcook/inconsistent-data-entry).**\n",
    "\n",
    "---\n"
   ]
  },
  {
   "cell_type": "markdown",
   "id": "ba64eb5f",
   "metadata": {
    "papermill": {
     "duration": 0.015076,
     "end_time": "2022-01-29T15:11:19.697793",
     "exception": false,
     "start_time": "2022-01-29T15:11:19.682717",
     "status": "completed"
    },
    "tags": []
   },
   "source": [
    "In this exercise, you'll apply what you learned in the **Inconsistent data entry** tutorial.\n",
    "\n",
    "# Setup\n",
    "\n",
    "The questions below will give you feedback on your work. Run the following cell to set up the feedback system."
   ]
  },
  {
   "cell_type": "code",
   "execution_count": 1,
   "id": "8ac198e9",
   "metadata": {
    "execution": {
     "iopub.execute_input": "2022-01-29T15:11:19.733898Z",
     "iopub.status.busy": "2022-01-29T15:11:19.732682Z",
     "iopub.status.idle": "2022-01-29T15:11:19.837463Z",
     "shell.execute_reply": "2022-01-29T15:11:19.838146Z",
     "shell.execute_reply.started": "2022-01-29T15:08:22.140217Z"
    },
    "papermill": {
     "duration": 0.125101,
     "end_time": "2022-01-29T15:11:19.838542",
     "exception": false,
     "start_time": "2022-01-29T15:11:19.713441",
     "status": "completed"
    },
    "tags": []
   },
   "outputs": [
    {
     "name": "stdout",
     "output_type": "stream",
     "text": [
      "Setup Complete\n"
     ]
    }
   ],
   "source": [
    "from learntools.core import binder\n",
    "binder.bind(globals())\n",
    "from learntools.data_cleaning.ex5 import *\n",
    "print(\"Setup Complete\")"
   ]
  },
  {
   "cell_type": "markdown",
   "id": "fc2ee562",
   "metadata": {
    "papermill": {
     "duration": 0.015722,
     "end_time": "2022-01-29T15:11:19.871460",
     "exception": false,
     "start_time": "2022-01-29T15:11:19.855738",
     "status": "completed"
    },
    "tags": []
   },
   "source": [
    "# Get our environment set up\n",
    "\n",
    "The first thing we'll need to do is load in the libraries and dataset we'll be using.  We use the same dataset from the tutorial."
   ]
  },
  {
   "cell_type": "code",
   "execution_count": 2,
   "id": "55f82518",
   "metadata": {
    "execution": {
     "iopub.execute_input": "2022-01-29T15:11:19.910987Z",
     "iopub.status.busy": "2022-01-29T15:11:19.908173Z",
     "iopub.status.idle": "2022-01-29T15:11:19.923614Z",
     "shell.execute_reply": "2022-01-29T15:11:19.924146Z",
     "shell.execute_reply.started": "2022-01-29T15:08:26.446886Z"
    },
    "papermill": {
     "duration": 0.034813,
     "end_time": "2022-01-29T15:11:19.924319",
     "exception": false,
     "start_time": "2022-01-29T15:11:19.889506",
     "status": "completed"
    },
    "tags": []
   },
   "outputs": [],
   "source": [
    "# modules we'll use\n",
    "import pandas as pd\n",
    "import numpy as np\n",
    "\n",
    "# helpful modules\n",
    "import fuzzywuzzy\n",
    "from fuzzywuzzy import process\n",
    "import chardet\n",
    "\n",
    "# read in all our data\n",
    "professors = pd.read_csv(\"../input/pakistan-intellectual-capital/pakistan_intellectual_capital.csv\")\n",
    "\n",
    "# set seed for reproducibility\n",
    "np.random.seed(0)"
   ]
  },
  {
   "cell_type": "markdown",
   "id": "b7bfb7cc",
   "metadata": {
    "papermill": {
     "duration": 0.015074,
     "end_time": "2022-01-29T15:11:19.955431",
     "exception": false,
     "start_time": "2022-01-29T15:11:19.940357",
     "status": "completed"
    },
    "tags": []
   },
   "source": [
    "Next, we'll redo all of the work that we did in the tutorial."
   ]
  },
  {
   "cell_type": "code",
   "execution_count": 3,
   "id": "5812d5b7",
   "metadata": {
    "execution": {
     "iopub.execute_input": "2022-01-29T15:11:19.989512Z",
     "iopub.status.busy": "2022-01-29T15:11:19.988827Z",
     "iopub.status.idle": "2022-01-29T15:11:20.004295Z",
     "shell.execute_reply": "2022-01-29T15:11:20.004877Z",
     "shell.execute_reply.started": "2022-01-29T15:08:32.055192Z"
    },
    "papermill": {
     "duration": 0.034371,
     "end_time": "2022-01-29T15:11:20.005053",
     "exception": false,
     "start_time": "2022-01-29T15:11:19.970682",
     "status": "completed"
    },
    "tags": []
   },
   "outputs": [
    {
     "name": "stdout",
     "output_type": "stream",
     "text": [
      "All done!\n"
     ]
    }
   ],
   "source": [
    "# convert to lower case\n",
    "professors['Country'] = professors['Country'].str.lower()\n",
    "# remove trailing white spaces\n",
    "professors['Country'] = professors['Country'].str.strip()\n",
    "\n",
    "# get the top 10 closest matches to \"south korea\"\n",
    "countries = professors['Country'].unique()\n",
    "matches = fuzzywuzzy.process.extract(\"south korea\", countries, limit=10, scorer=fuzzywuzzy.fuzz.token_sort_ratio)\n",
    "\n",
    "def replace_matches_in_column(df, column, string_to_match, min_ratio = 47):\n",
    "    # get a list of unique strings\n",
    "    strings = df[column].unique()\n",
    "    \n",
    "    # get the top 10 closest matches to our input string\n",
    "    matches = fuzzywuzzy.process.extract(string_to_match, strings, \n",
    "                                         limit=10, scorer=fuzzywuzzy.fuzz.token_sort_ratio)\n",
    "\n",
    "    # only get matches with a ratio > 90\n",
    "    close_matches = [matches[0] for matches in matches if matches[1] >= min_ratio]\n",
    "\n",
    "    # get the rows of all the close matches in our dataframe\n",
    "    rows_with_matches = df[column].isin(close_matches)\n",
    "\n",
    "    # replace all rows with close matches with the input matches \n",
    "    df.loc[rows_with_matches, column] = string_to_match\n",
    "    \n",
    "    # let us know the function's done\n",
    "    print(\"All done!\")\n",
    "    \n",
    "replace_matches_in_column(df=professors, column='Country', string_to_match=\"south korea\")\n",
    "countries = professors['Country'].unique()"
   ]
  },
  {
   "cell_type": "markdown",
   "id": "111fb9f1",
   "metadata": {
    "papermill": {
     "duration": 0.015689,
     "end_time": "2022-01-29T15:11:20.037133",
     "exception": false,
     "start_time": "2022-01-29T15:11:20.021444",
     "status": "completed"
    },
    "tags": []
   },
   "source": [
    "# 1) Examine another column\n",
    "\n",
    "Write code below to take a look at all the unique values in the \"Graduated from\" column."
   ]
  },
  {
   "cell_type": "code",
   "execution_count": 4,
   "id": "dd34bb30",
   "metadata": {
    "execution": {
     "iopub.execute_input": "2022-01-29T15:11:20.072254Z",
     "iopub.status.busy": "2022-01-29T15:11:20.071584Z",
     "iopub.status.idle": "2022-01-29T15:11:20.075456Z",
     "shell.execute_reply": "2022-01-29T15:11:20.075997Z",
     "shell.execute_reply.started": "2022-01-29T15:09:48.217191Z"
    },
    "papermill": {
     "duration": 0.023343,
     "end_time": "2022-01-29T15:11:20.076176",
     "exception": false,
     "start_time": "2022-01-29T15:11:20.052833",
     "status": "completed"
    },
    "tags": []
   },
   "outputs": [],
   "source": [
    "# TODO: Your code here\n",
    "unis = professors['Graduated from'].unique()"
   ]
  },
  {
   "cell_type": "markdown",
   "id": "54e63d1b",
   "metadata": {
    "papermill": {
     "duration": 0.015708,
     "end_time": "2022-01-29T15:11:20.107780",
     "exception": false,
     "start_time": "2022-01-29T15:11:20.092072",
     "status": "completed"
    },
    "tags": []
   },
   "source": [
    "Do you notice any inconsistencies in the data?  Can any of the inconsistencies in the data be fixed by removing white spaces at the beginning and end of cells?\n",
    "\n",
    "Once you have answered these questions, run the code cell below to get credit for your work."
   ]
  },
  {
   "cell_type": "code",
   "execution_count": 5,
   "id": "3e2f1abf",
   "metadata": {
    "execution": {
     "iopub.execute_input": "2022-01-29T15:11:20.143013Z",
     "iopub.status.busy": "2022-01-29T15:11:20.142368Z",
     "iopub.status.idle": "2022-01-29T15:11:20.150287Z",
     "shell.execute_reply": "2022-01-29T15:11:20.150802Z",
     "shell.execute_reply.started": "2022-01-29T15:09:53.071137Z"
    },
    "papermill": {
     "duration": 0.027235,
     "end_time": "2022-01-29T15:11:20.150971",
     "exception": false,
     "start_time": "2022-01-29T15:11:20.123736",
     "status": "completed"
    },
    "tags": []
   },
   "outputs": [
    {
     "data": {
      "application/javascript": [
       "parent.postMessage({\"jupyterEvent\": \"custom.exercise_interaction\", \"data\": {\"outcomeType\": 1, \"valueTowardsCompletion\": 0.3333333333333333, \"interactionType\": 1, \"questionType\": 4, \"questionId\": \"1_ExamineProvince\", \"learnToolsVersion\": \"0.3.4\", \"failureMessage\": \"\", \"exceptionClass\": \"\", \"trace\": \"\"}}, \"*\")"
      ],
      "text/plain": [
       "<IPython.core.display.Javascript object>"
      ]
     },
     "metadata": {},
     "output_type": "display_data"
    },
    {
     "data": {
      "text/markdown": [
       "<span style=\"color:#33cc33\">Correct:</span> \n",
       "\n",
       "There are inconsistencies that can be fixed by removing white spaces at the beginning and end of cells.  For instance, \"University of Central Florida\" and \" University of Central Florida\" both appear in the column."
      ],
      "text/plain": [
       "Correct: \n",
       "\n",
       "There are inconsistencies that can be fixed by removing white spaces at the beginning and end of cells.  For instance, \"University of Central Florida\" and \" University of Central Florida\" both appear in the column."
      ]
     },
     "metadata": {},
     "output_type": "display_data"
    }
   ],
   "source": [
    "# Check your answer (Run this code cell to receive credit!)\n",
    "q1.check()"
   ]
  },
  {
   "cell_type": "code",
   "execution_count": 6,
   "id": "5c86a372",
   "metadata": {
    "execution": {
     "iopub.execute_input": "2022-01-29T15:11:20.192614Z",
     "iopub.status.busy": "2022-01-29T15:11:20.191929Z",
     "iopub.status.idle": "2022-01-29T15:11:20.195279Z",
     "shell.execute_reply": "2022-01-29T15:11:20.195836Z",
     "shell.execute_reply.started": "2022-01-29T15:09:58.620527Z"
    },
    "papermill": {
     "duration": 0.026322,
     "end_time": "2022-01-29T15:11:20.196027",
     "exception": false,
     "start_time": "2022-01-29T15:11:20.169705",
     "status": "completed"
    },
    "tags": []
   },
   "outputs": [],
   "source": [
    "# Line below will give you a hint\n",
    "#q1.hint()"
   ]
  },
  {
   "cell_type": "markdown",
   "id": "aec96cb2",
   "metadata": {
    "papermill": {
     "duration": 0.016511,
     "end_time": "2022-01-29T15:11:20.230863",
     "exception": false,
     "start_time": "2022-01-29T15:11:20.214352",
     "status": "completed"
    },
    "tags": []
   },
   "source": [
    "# 2) Do some text pre-processing\n",
    "\n",
    "Convert every entry in the \"Graduated from\" column in the `professors` DataFrame to remove white spaces at the beginning and end of cells."
   ]
  },
  {
   "cell_type": "code",
   "execution_count": 7,
   "id": "24e9e286",
   "metadata": {
    "execution": {
     "iopub.execute_input": "2022-01-29T15:11:20.272883Z",
     "iopub.status.busy": "2022-01-29T15:11:20.272200Z",
     "iopub.status.idle": "2022-01-29T15:11:20.280830Z",
     "shell.execute_reply": "2022-01-29T15:11:20.280273Z",
     "shell.execute_reply.started": "2022-01-29T15:10:18.599563Z"
    },
    "papermill": {
     "duration": 0.033326,
     "end_time": "2022-01-29T15:11:20.280973",
     "exception": false,
     "start_time": "2022-01-29T15:11:20.247647",
     "status": "completed"
    },
    "tags": []
   },
   "outputs": [
    {
     "data": {
      "application/javascript": [
       "parent.postMessage({\"jupyterEvent\": \"custom.exercise_interaction\", \"data\": {\"outcomeType\": 1, \"valueTowardsCompletion\": 0.3333333333333333, \"interactionType\": 1, \"questionType\": 1, \"questionId\": \"2_TextProcessing\", \"learnToolsVersion\": \"0.3.4\", \"failureMessage\": \"\", \"exceptionClass\": \"\", \"trace\": \"\"}}, \"*\")"
      ],
      "text/plain": [
       "<IPython.core.display.Javascript object>"
      ]
     },
     "metadata": {},
     "output_type": "display_data"
    },
    {
     "data": {
      "text/markdown": [
       "<span style=\"color:#33cc33\">Correct</span>"
      ],
      "text/plain": [
       "Correct"
      ]
     },
     "metadata": {},
     "output_type": "display_data"
    }
   ],
   "source": [
    "# TODO: Your code here\n",
    "professors['Graduated from'] = professors['Graduated from'].str.strip()\n",
    "\n",
    "# Check your answer\n",
    "q2.check()"
   ]
  },
  {
   "cell_type": "code",
   "execution_count": 8,
   "id": "883c2b70",
   "metadata": {
    "execution": {
     "iopub.execute_input": "2022-01-29T15:11:20.323806Z",
     "iopub.status.busy": "2022-01-29T15:11:20.323098Z",
     "iopub.status.idle": "2022-01-29T15:11:20.325600Z",
     "shell.execute_reply": "2022-01-29T15:11:20.326072Z",
     "shell.execute_reply.started": "2022-01-29T15:10:23.118670Z"
    },
    "papermill": {
     "duration": 0.025791,
     "end_time": "2022-01-29T15:11:20.326249",
     "exception": false,
     "start_time": "2022-01-29T15:11:20.300458",
     "status": "completed"
    },
    "tags": []
   },
   "outputs": [],
   "source": [
    "# Lines below will give you a hint or solution code\n",
    "#q2.hint()\n",
    "#q2.solution()"
   ]
  },
  {
   "cell_type": "markdown",
   "id": "9550e914",
   "metadata": {
    "papermill": {
     "duration": 0.019511,
     "end_time": "2022-01-29T15:11:20.364626",
     "exception": false,
     "start_time": "2022-01-29T15:11:20.345115",
     "status": "completed"
    },
    "tags": []
   },
   "source": [
    "# 3) Continue working with countries\n",
    "\n",
    "In the tutorial, we focused on cleaning up inconsistencies in the \"Country\" column.  Run the code cell below to view the list of unique values that we ended with."
   ]
  },
  {
   "cell_type": "code",
   "execution_count": 9,
   "id": "c4529fc3",
   "metadata": {
    "execution": {
     "iopub.execute_input": "2022-01-29T15:11:20.409091Z",
     "iopub.status.busy": "2022-01-29T15:11:20.408382Z",
     "iopub.status.idle": "2022-01-29T15:11:20.410923Z",
     "shell.execute_reply": "2022-01-29T15:11:20.411417Z",
     "shell.execute_reply.started": "2022-01-29T15:10:28.832752Z"
    },
    "papermill": {
     "duration": 0.028034,
     "end_time": "2022-01-29T15:11:20.411583",
     "exception": false,
     "start_time": "2022-01-29T15:11:20.383549",
     "status": "completed"
    },
    "tags": []
   },
   "outputs": [
    {
     "data": {
      "text/plain": [
       "array(['australia', 'austria', 'canada', 'china', 'finland', 'france',\n",
       "       'germany', 'greece', 'hongkong', 'ireland', 'italy', 'japan',\n",
       "       'macau', 'malaysia', 'mauritius', 'netherland', 'new zealand',\n",
       "       'norway', 'pakistan', 'portugal', 'russian federation',\n",
       "       'saudi arabia', 'scotland', 'singapore', 'south korea', 'spain',\n",
       "       'sweden', 'thailand', 'turkey', 'uk', 'urbana', 'usa', 'usofa'],\n",
       "      dtype=object)"
      ]
     },
     "execution_count": 9,
     "metadata": {},
     "output_type": "execute_result"
    }
   ],
   "source": [
    "# get all the unique values in the 'City' column\n",
    "countries = professors['Country'].unique()\n",
    "\n",
    "# sort them alphabetically and then take a closer look\n",
    "countries.sort()\n",
    "countries"
   ]
  },
  {
   "cell_type": "markdown",
   "id": "8c59014e",
   "metadata": {
    "papermill": {
     "duration": 0.01818,
     "end_time": "2022-01-29T15:11:20.448453",
     "exception": false,
     "start_time": "2022-01-29T15:11:20.430273",
     "status": "completed"
    },
    "tags": []
   },
   "source": [
    "Take another look at the \"Country\" column and see if there's any more data cleaning we need to do.\n",
    "\n",
    "It looks like 'usa' and 'usofa' should be the same country.  Correct the \"Country\" column in the dataframe to replace 'usofa' with 'usa'.\n",
    "\n",
    "**Use the most recent version of the DataFrame (with the whitespaces at the beginning and end of cells removed) from question 2.**"
   ]
  },
  {
   "cell_type": "code",
   "execution_count": 10,
   "id": "01852942",
   "metadata": {
    "execution": {
     "iopub.execute_input": "2022-01-29T15:11:20.495379Z",
     "iopub.status.busy": "2022-01-29T15:11:20.494206Z",
     "iopub.status.idle": "2022-01-29T15:11:20.501412Z",
     "shell.execute_reply": "2022-01-29T15:11:20.500812Z",
     "shell.execute_reply.started": "2022-01-29T15:10:43.087992Z"
    },
    "papermill": {
     "duration": 0.034795,
     "end_time": "2022-01-29T15:11:20.501558",
     "exception": false,
     "start_time": "2022-01-29T15:11:20.466763",
     "status": "completed"
    },
    "tags": []
   },
   "outputs": [
    {
     "name": "stdout",
     "output_type": "stream",
     "text": [
      "All done!\n"
     ]
    },
    {
     "data": {
      "application/javascript": [
       "parent.postMessage({\"jupyterEvent\": \"custom.exercise_interaction\", \"data\": {\"outcomeType\": 1, \"valueTowardsCompletion\": 0.3333333333333333, \"interactionType\": 1, \"questionType\": 1, \"questionId\": \"3_WorkingWithCities\", \"learnToolsVersion\": \"0.3.4\", \"failureMessage\": \"\", \"exceptionClass\": \"\", \"trace\": \"\"}}, \"*\")"
      ],
      "text/plain": [
       "<IPython.core.display.Javascript object>"
      ]
     },
     "metadata": {},
     "output_type": "display_data"
    },
    {
     "data": {
      "text/markdown": [
       "<span style=\"color:#33cc33\">Correct</span>"
      ],
      "text/plain": [
       "Correct"
      ]
     },
     "metadata": {},
     "output_type": "display_data"
    }
   ],
   "source": [
    "# TODO: Your code here!\n",
    "matches = fuzzywuzzy.process.extract(\"usa\", countries, limit=10, scorer=fuzzywuzzy.fuzz.token_sort_ratio)\n",
    "replace_matches_in_column(df=professors, column='Country', string_to_match=\"usa\", min_ratio=70)\n",
    "\n",
    "# Check your answer\n",
    "q3.check()"
   ]
  },
  {
   "cell_type": "code",
   "execution_count": 11,
   "id": "4fe1f4f4",
   "metadata": {
    "execution": {
     "iopub.execute_input": "2022-01-29T15:11:20.546467Z",
     "iopub.status.busy": "2022-01-29T15:11:20.545749Z",
     "iopub.status.idle": "2022-01-29T15:11:20.547942Z",
     "shell.execute_reply": "2022-01-29T15:11:20.547305Z",
     "shell.execute_reply.started": "2022-01-29T15:10:47.261920Z"
    },
    "papermill": {
     "duration": 0.025462,
     "end_time": "2022-01-29T15:11:20.548079",
     "exception": false,
     "start_time": "2022-01-29T15:11:20.522617",
     "status": "completed"
    },
    "tags": []
   },
   "outputs": [],
   "source": [
    "# Lines below will give you a hint or solution code\n",
    "#q3.hint()\n",
    "#q3.solution()"
   ]
  },
  {
   "cell_type": "markdown",
   "id": "bf37d7b5",
   "metadata": {
    "papermill": {
     "duration": 0.019077,
     "end_time": "2022-01-29T15:11:20.586653",
     "exception": false,
     "start_time": "2022-01-29T15:11:20.567576",
     "status": "completed"
    },
    "tags": []
   },
   "source": [
    "# Congratulations!\n",
    "\n",
    "Congratulations for completing the **Data Cleaning** course on Kaggle Learn!\n",
    "\n",
    "To practice your new skills, you're encouraged to download and investigate some of [Kaggle's Datasets](https://www.kaggle.com/datasets)."
   ]
  },
  {
   "cell_type": "markdown",
   "id": "4f1d7637",
   "metadata": {
    "papermill": {
     "duration": 0.019169,
     "end_time": "2022-01-29T15:11:20.625288",
     "exception": false,
     "start_time": "2022-01-29T15:11:20.606119",
     "status": "completed"
    },
    "tags": []
   },
   "source": [
    "---\n",
    "\n",
    "\n",
    "\n",
    "\n",
    "*Have questions or comments? Visit the [course discussion forum](https://www.kaggle.com/learn/data-cleaning/discussion) to chat with other learners.*"
   ]
  }
 ],
 "metadata": {
  "kernelspec": {
   "display_name": "Python 3",
   "language": "python",
   "name": "python3"
  },
  "language_info": {
   "codemirror_mode": {
    "name": "ipython",
    "version": 3
   },
   "file_extension": ".py",
   "mimetype": "text/x-python",
   "name": "python",
   "nbconvert_exporter": "python",
   "pygments_lexer": "ipython3",
   "version": "3.7.12"
  },
  "papermill": {
   "default_parameters": {},
   "duration": 12.260253,
   "end_time": "2022-01-29T15:11:21.255136",
   "environment_variables": {},
   "exception": null,
   "input_path": "__notebook__.ipynb",
   "output_path": "__notebook__.ipynb",
   "parameters": {},
   "start_time": "2022-01-29T15:11:08.994883",
   "version": "2.3.3"
  }
 },
 "nbformat": 4,
 "nbformat_minor": 5
}
