{
 "cells": [
  {
   "cell_type": "markdown",
   "id": "d283d661",
   "metadata": {
    "papermill": {
     "duration": 0.015369,
     "end_time": "2022-01-29T15:06:39.238424",
     "exception": false,
     "start_time": "2022-01-29T15:06:39.223055",
     "status": "completed"
    },
    "tags": []
   },
   "source": [
    "**This notebook is an exercise in the [Data Cleaning](https://www.kaggle.com/learn/data-cleaning) course.  You can reference the tutorial at [this link](https://www.kaggle.com/alexisbcook/character-encodings).**\n",
    "\n",
    "---\n"
   ]
  },
  {
   "cell_type": "markdown",
   "id": "f281f4ef",
   "metadata": {
    "papermill": {
     "duration": 0.01339,
     "end_time": "2022-01-29T15:06:39.266260",
     "exception": false,
     "start_time": "2022-01-29T15:06:39.252870",
     "status": "completed"
    },
    "tags": []
   },
   "source": [
    "In this exercise, you'll apply what you learned in the **Character encodings** tutorial.\n",
    "\n",
    "# Setup\n",
    "\n",
    "The questions below will give you feedback on your work. Run the following cell to set up the feedback system."
   ]
  },
  {
   "cell_type": "code",
   "execution_count": 1,
   "id": "021e943b",
   "metadata": {
    "execution": {
     "iopub.execute_input": "2022-01-29T15:06:39.302943Z",
     "iopub.status.busy": "2022-01-29T15:06:39.302262Z",
     "iopub.status.idle": "2022-01-29T15:06:39.393915Z",
     "shell.execute_reply": "2022-01-29T15:06:39.394470Z",
     "shell.execute_reply.started": "2022-01-29T15:01:45.436050Z"
    },
    "papermill": {
     "duration": 0.114982,
     "end_time": "2022-01-29T15:06:39.394802",
     "exception": false,
     "start_time": "2022-01-29T15:06:39.279820",
     "status": "completed"
    },
    "tags": []
   },
   "outputs": [
    {
     "name": "stdout",
     "output_type": "stream",
     "text": [
      "Setup Complete\n"
     ]
    }
   ],
   "source": [
    "from learntools.core import binder\n",
    "binder.bind(globals())\n",
    "from learntools.data_cleaning.ex4 import *\n",
    "print(\"Setup Complete\")"
   ]
  },
  {
   "cell_type": "markdown",
   "id": "707ae613",
   "metadata": {
    "papermill": {
     "duration": 0.013829,
     "end_time": "2022-01-29T15:06:39.423512",
     "exception": false,
     "start_time": "2022-01-29T15:06:39.409683",
     "status": "completed"
    },
    "tags": []
   },
   "source": [
    "# Get our environment set up\n",
    "\n",
    "The first thing we'll need to do is load in the libraries we'll be using."
   ]
  },
  {
   "cell_type": "code",
   "execution_count": 2,
   "id": "808be496",
   "metadata": {
    "execution": {
     "iopub.execute_input": "2022-01-29T15:06:39.455889Z",
     "iopub.status.busy": "2022-01-29T15:06:39.455219Z",
     "iopub.status.idle": "2022-01-29T15:06:39.459736Z",
     "shell.execute_reply": "2022-01-29T15:06:39.460250Z",
     "shell.execute_reply.started": "2022-01-29T15:02:20.684135Z"
    },
    "papermill": {
     "duration": 0.022846,
     "end_time": "2022-01-29T15:06:39.460446",
     "exception": false,
     "start_time": "2022-01-29T15:06:39.437600",
     "status": "completed"
    },
    "tags": []
   },
   "outputs": [],
   "source": [
    "# modules we'll use\n",
    "import pandas as pd\n",
    "import numpy as np\n",
    "\n",
    "# helpful character encoding module\n",
    "import chardet\n",
    "\n",
    "# set seed for reproducibility\n",
    "np.random.seed(0)"
   ]
  },
  {
   "cell_type": "markdown",
   "id": "574008fc",
   "metadata": {
    "papermill": {
     "duration": 0.014894,
     "end_time": "2022-01-29T15:06:39.489641",
     "exception": false,
     "start_time": "2022-01-29T15:06:39.474747",
     "status": "completed"
    },
    "tags": []
   },
   "source": [
    "# 1) What are encodings?\n",
    "\n",
    "You're working with a dataset composed of bytes.  Run the code cell below to print a sample entry."
   ]
  },
  {
   "cell_type": "code",
   "execution_count": 3,
   "id": "70c0e22e",
   "metadata": {
    "execution": {
     "iopub.execute_input": "2022-01-29T15:06:39.523968Z",
     "iopub.status.busy": "2022-01-29T15:06:39.523128Z",
     "iopub.status.idle": "2022-01-29T15:06:39.529152Z",
     "shell.execute_reply": "2022-01-29T15:06:39.528396Z",
     "shell.execute_reply.started": "2022-01-29T15:02:27.087097Z"
    },
    "papermill": {
     "duration": 0.023843,
     "end_time": "2022-01-29T15:06:39.529423",
     "exception": false,
     "start_time": "2022-01-29T15:06:39.505580",
     "status": "completed"
    },
    "tags": []
   },
   "outputs": [
    {
     "name": "stdout",
     "output_type": "stream",
     "text": [
      "b'\\xa7A\\xa6n'\n",
      "data type: <class 'bytes'>\n"
     ]
    }
   ],
   "source": [
    "sample_entry = b'\\xa7A\\xa6n'\n",
    "print(sample_entry)\n",
    "print('data type:', type(sample_entry))"
   ]
  },
  {
   "cell_type": "markdown",
   "id": "988ccdd8",
   "metadata": {
    "papermill": {
     "duration": 0.014427,
     "end_time": "2022-01-29T15:06:39.559102",
     "exception": false,
     "start_time": "2022-01-29T15:06:39.544675",
     "status": "completed"
    },
    "tags": []
   },
   "source": [
    "You notice that it doesn't use the standard UTF-8 encoding. \n",
    "\n",
    "Use the next code cell to create a variable `new_entry` that changes the encoding from `\"big5-tw\"` to `\"utf-8\"`.  `new_entry` should have the bytes datatype."
   ]
  },
  {
   "cell_type": "code",
   "execution_count": 4,
   "id": "cbb55099",
   "metadata": {
    "execution": {
     "iopub.execute_input": "2022-01-29T15:06:39.593607Z",
     "iopub.status.busy": "2022-01-29T15:06:39.592878Z",
     "iopub.status.idle": "2022-01-29T15:06:39.602280Z",
     "shell.execute_reply": "2022-01-29T15:06:39.602969Z",
     "shell.execute_reply.started": "2022-01-29T15:02:44.756845Z"
    },
    "papermill": {
     "duration": 0.028113,
     "end_time": "2022-01-29T15:06:39.603199",
     "exception": false,
     "start_time": "2022-01-29T15:06:39.575086",
     "status": "completed"
    },
    "tags": []
   },
   "outputs": [
    {
     "data": {
      "application/javascript": [
       "parent.postMessage({\"jupyterEvent\": \"custom.exercise_interaction\", \"data\": {\"outcomeType\": 1, \"valueTowardsCompletion\": 0.3333333333333333, \"interactionType\": 1, \"questionType\": 1, \"questionId\": \"1_EncodingsIntro\", \"learnToolsVersion\": \"0.3.4\", \"failureMessage\": \"\", \"exceptionClass\": \"\", \"trace\": \"\"}}, \"*\")"
      ],
      "text/plain": [
       "<IPython.core.display.Javascript object>"
      ]
     },
     "metadata": {},
     "output_type": "display_data"
    },
    {
     "data": {
      "text/markdown": [
       "<span style=\"color:#33cc33\">Correct</span>"
      ],
      "text/plain": [
       "Correct"
      ]
     },
     "metadata": {},
     "output_type": "display_data"
    }
   ],
   "source": [
    "before = sample_entry.decode(\"big5-tw\")\n",
    "new_entry = before.encode()\n",
    "\n",
    "# Check your answer\n",
    "q1.check()"
   ]
  },
  {
   "cell_type": "code",
   "execution_count": 5,
   "id": "c57e1b83",
   "metadata": {
    "execution": {
     "iopub.execute_input": "2022-01-29T15:06:39.639495Z",
     "iopub.status.busy": "2022-01-29T15:06:39.638714Z",
     "iopub.status.idle": "2022-01-29T15:06:39.641600Z",
     "shell.execute_reply": "2022-01-29T15:06:39.642205Z",
     "shell.execute_reply.started": "2022-01-29T15:02:49.049383Z"
    },
    "papermill": {
     "duration": 0.022495,
     "end_time": "2022-01-29T15:06:39.642439",
     "exception": false,
     "start_time": "2022-01-29T15:06:39.619944",
     "status": "completed"
    },
    "tags": []
   },
   "outputs": [],
   "source": [
    "# Lines below will give you a hint or solution code\n",
    "#q1.hint()\n",
    "#q1.solution()"
   ]
  },
  {
   "cell_type": "markdown",
   "id": "478802bb",
   "metadata": {
    "papermill": {
     "duration": 0.01682,
     "end_time": "2022-01-29T15:06:39.676456",
     "exception": false,
     "start_time": "2022-01-29T15:06:39.659636",
     "status": "completed"
    },
    "tags": []
   },
   "source": [
    "# 2) Reading in files with encoding problems\n",
    "\n",
    "Use the code cell below to read in this file at path `\"../input/fatal-police-shootings-in-the-us/PoliceKillingsUS.csv\"`.  \n",
    "\n",
    "Figure out what the correct encoding should be and read in the file to a DataFrame `police_killings`."
   ]
  },
  {
   "cell_type": "code",
   "execution_count": 6,
   "id": "67518ad9",
   "metadata": {
    "execution": {
     "iopub.execute_input": "2022-01-29T15:06:39.713970Z",
     "iopub.status.busy": "2022-01-29T15:06:39.713181Z",
     "iopub.status.idle": "2022-01-29T15:06:39.737204Z",
     "shell.execute_reply": "2022-01-29T15:06:39.737834Z",
     "shell.execute_reply.started": "2022-01-29T15:05:26.843833Z"
    },
    "papermill": {
     "duration": 0.044411,
     "end_time": "2022-01-29T15:06:39.738069",
     "exception": false,
     "start_time": "2022-01-29T15:06:39.693658",
     "status": "completed"
    },
    "tags": []
   },
   "outputs": [
    {
     "data": {
      "application/javascript": [
       "parent.postMessage({\"jupyterEvent\": \"custom.exercise_interaction\", \"data\": {\"outcomeType\": 1, \"valueTowardsCompletion\": 0.3333333333333333, \"interactionType\": 1, \"questionType\": 1, \"questionId\": \"2_ReadIn\", \"learnToolsVersion\": \"0.3.4\", \"failureMessage\": \"\", \"exceptionClass\": \"\", \"trace\": \"\"}}, \"*\")"
      ],
      "text/plain": [
       "<IPython.core.display.Javascript object>"
      ]
     },
     "metadata": {},
     "output_type": "display_data"
    },
    {
     "data": {
      "text/markdown": [
       "<span style=\"color:#33cc33\">Correct</span>"
      ],
      "text/plain": [
       "Correct"
      ]
     },
     "metadata": {},
     "output_type": "display_data"
    }
   ],
   "source": [
    "# TODO: Load in the DataFrame correctly.\n",
    "file_path = \"../input/fatal-police-shootings-in-the-us/PoliceKillingsUS.csv\"\n",
    "police_killings = pd.read_csv(file_path,encoding='Windows-1252')\n",
    "\n",
    "# Check your answer\n",
    "q2.check()"
   ]
  },
  {
   "cell_type": "markdown",
   "id": "c5dde00b",
   "metadata": {
    "papermill": {
     "duration": 0.016974,
     "end_time": "2022-01-29T15:06:39.773780",
     "exception": false,
     "start_time": "2022-01-29T15:06:39.756806",
     "status": "completed"
    },
    "tags": []
   },
   "source": [
    "Feel free to use any additional code cells for supplemental work.  To get credit for finishing this question, you'll need to run `q2.check()` and get a result of **Correct**."
   ]
  },
  {
   "cell_type": "code",
   "execution_count": 7,
   "id": "84e7ffd4",
   "metadata": {
    "execution": {
     "iopub.execute_input": "2022-01-29T15:06:39.811082Z",
     "iopub.status.busy": "2022-01-29T15:06:39.810359Z",
     "iopub.status.idle": "2022-01-29T15:06:39.813924Z",
     "shell.execute_reply": "2022-01-29T15:06:39.814494Z"
    },
    "papermill": {
     "duration": 0.024039,
     "end_time": "2022-01-29T15:06:39.814705",
     "exception": false,
     "start_time": "2022-01-29T15:06:39.790666",
     "status": "completed"
    },
    "tags": []
   },
   "outputs": [],
   "source": [
    "# (Optional) Use this code cell for any additional work."
   ]
  },
  {
   "cell_type": "code",
   "execution_count": 8,
   "id": "2759127f",
   "metadata": {
    "execution": {
     "iopub.execute_input": "2022-01-29T15:06:39.853436Z",
     "iopub.status.busy": "2022-01-29T15:06:39.852711Z",
     "iopub.status.idle": "2022-01-29T15:06:39.855547Z",
     "shell.execute_reply": "2022-01-29T15:06:39.856017Z",
     "shell.execute_reply.started": "2022-01-29T15:05:35.437208Z"
    },
    "papermill": {
     "duration": 0.023409,
     "end_time": "2022-01-29T15:06:39.856231",
     "exception": false,
     "start_time": "2022-01-29T15:06:39.832822",
     "status": "completed"
    },
    "tags": []
   },
   "outputs": [],
   "source": [
    "# Lines below will give you a hint or solution code\n",
    "#q2.hint()\n",
    "#q2.solution()"
   ]
  },
  {
   "cell_type": "markdown",
   "id": "ad12da57",
   "metadata": {
    "papermill": {
     "duration": 0.018537,
     "end_time": "2022-01-29T15:06:39.892568",
     "exception": false,
     "start_time": "2022-01-29T15:06:39.874031",
     "status": "completed"
    },
    "tags": []
   },
   "source": [
    "# 3) Saving your files with UTF-8 encoding\n",
    "\n",
    "Save a version of the police killings dataset to CSV with UTF-8 encoding.  Your answer will be marked correct after saving this file.  \n",
    "\n",
    "Note: When using the `to_csv()` method, supply only the name of the file (e.g., `\"my_file.csv\"`).  This saves the file at the filepath `\"/kaggle/working/my_file.csv\"`."
   ]
  },
  {
   "cell_type": "code",
   "execution_count": 9,
   "id": "bb3f243f",
   "metadata": {
    "execution": {
     "iopub.execute_input": "2022-01-29T15:06:39.931219Z",
     "iopub.status.busy": "2022-01-29T15:06:39.930436Z",
     "iopub.status.idle": "2022-01-29T15:06:39.972383Z",
     "shell.execute_reply": "2022-01-29T15:06:39.973582Z",
     "shell.execute_reply.started": "2022-01-29T15:05:55.326198Z"
    },
    "papermill": {
     "duration": 0.063987,
     "end_time": "2022-01-29T15:06:39.973807",
     "exception": false,
     "start_time": "2022-01-29T15:06:39.909820",
     "status": "completed"
    },
    "tags": []
   },
   "outputs": [
    {
     "data": {
      "application/javascript": [
       "parent.postMessage({\"jupyterEvent\": \"custom.exercise_interaction\", \"data\": {\"outcomeType\": 1, \"valueTowardsCompletion\": 0.3333333333333333, \"interactionType\": 1, \"questionType\": 2, \"questionId\": \"3_SaveCSV\", \"learnToolsVersion\": \"0.3.4\", \"failureMessage\": \"\", \"exceptionClass\": \"\", \"trace\": \"\"}}, \"*\")"
      ],
      "text/plain": [
       "<IPython.core.display.Javascript object>"
      ]
     },
     "metadata": {},
     "output_type": "display_data"
    },
    {
     "data": {
      "text/markdown": [
       "<span style=\"color:#33cc33\">Correct</span>"
      ],
      "text/plain": [
       "Correct"
      ]
     },
     "metadata": {},
     "output_type": "display_data"
    }
   ],
   "source": [
    "# TODO: Save the police killings dataset to CSV\n",
    "police_killings.to_csv(\"my_file.csv\")\n",
    "\n",
    "# Check your answer\n",
    "q3.check()"
   ]
  },
  {
   "cell_type": "code",
   "execution_count": 10,
   "id": "e31d46d7",
   "metadata": {
    "execution": {
     "iopub.execute_input": "2022-01-29T15:06:40.013419Z",
     "iopub.status.busy": "2022-01-29T15:06:40.012693Z",
     "iopub.status.idle": "2022-01-29T15:06:40.015899Z",
     "shell.execute_reply": "2022-01-29T15:06:40.016495Z",
     "shell.execute_reply.started": "2022-01-29T15:05:58.817513Z"
    },
    "papermill": {
     "duration": 0.025304,
     "end_time": "2022-01-29T15:06:40.016665",
     "exception": false,
     "start_time": "2022-01-29T15:06:39.991361",
     "status": "completed"
    },
    "tags": []
   },
   "outputs": [],
   "source": [
    "# Lines below will give you a hint or solution code\n",
    "#q3.hint()\n",
    "#q3.solution()"
   ]
  },
  {
   "cell_type": "markdown",
   "id": "ab49930d",
   "metadata": {
    "papermill": {
     "duration": 0.017553,
     "end_time": "2022-01-29T15:06:40.051823",
     "exception": false,
     "start_time": "2022-01-29T15:06:40.034270",
     "status": "completed"
    },
    "tags": []
   },
   "source": [
    "# (Optional) More practice\n",
    "\n",
    "Check out [this dataset of files in different character encodings](https://www.kaggle.com/rtatman/character-encoding-examples). Can you read in all the files with their original encodings and them save them out as UTF-8 files?\n",
    "\n",
    "If you have a file that's in UTF-8 but has just a couple of weird-looking characters in it, you can try out the [ftfy module](https://ftfy.readthedocs.io/en/latest/#) and see if it helps. \n",
    "\n",
    "# Keep going\n",
    "\n",
    "In the final lesson, learn how to [**clean up inconsistent text entries**](https://www.kaggle.com/alexisbcook/inconsistent-data-entry) in your dataset."
   ]
  },
  {
   "cell_type": "markdown",
   "id": "d3a03579",
   "metadata": {
    "papermill": {
     "duration": 0.017446,
     "end_time": "2022-01-29T15:06:40.086935",
     "exception": false,
     "start_time": "2022-01-29T15:06:40.069489",
     "status": "completed"
    },
    "tags": []
   },
   "source": [
    "---\n",
    "\n",
    "\n",
    "\n",
    "\n",
    "*Have questions or comments? Visit the [course discussion forum](https://www.kaggle.com/learn/data-cleaning/discussion) to chat with other learners.*"
   ]
  }
 ],
 "metadata": {
  "kernelspec": {
   "display_name": "Python 3",
   "language": "python",
   "name": "python3"
  },
  "language_info": {
   "codemirror_mode": {
    "name": "ipython",
    "version": 3
   },
   "file_extension": ".py",
   "mimetype": "text/x-python",
   "name": "python",
   "nbconvert_exporter": "python",
   "pygments_lexer": "ipython3",
   "version": "3.7.12"
  },
  "papermill": {
   "default_parameters": {},
   "duration": 15.201744,
   "end_time": "2022-01-29T15:06:40.918953",
   "environment_variables": {},
   "exception": null,
   "input_path": "__notebook__.ipynb",
   "output_path": "__notebook__.ipynb",
   "parameters": {},
   "start_time": "2022-01-29T15:06:25.717209",
   "version": "2.3.3"
  }
 },
 "nbformat": 4,
 "nbformat_minor": 5
}
